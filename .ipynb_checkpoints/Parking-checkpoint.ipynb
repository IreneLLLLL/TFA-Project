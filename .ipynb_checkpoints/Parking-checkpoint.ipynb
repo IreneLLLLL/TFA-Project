{
 "cells": [
  {
   "cell_type": "code",
   "execution_count": 1,
   "id": "7c4824ea-ed71-4d75-bdd0-89981e92ab67",
   "metadata": {},
   "outputs": [],
   "source": [
    "import pandas as pd"
   ]
  },
  {
   "cell_type": "markdown",
   "id": "7aa2b6d7-1ac4-45c8-877c-cf89eeb3bda8",
   "metadata": {},
   "source": [
    "#### Import the dataset"
   ]
  },
  {
   "cell_type": "code",
   "execution_count": 2,
   "id": "283068a3-a9aa-4c8d-b7dd-8990dbb941ff",
   "metadata": {},
   "outputs": [
    {
     "name": "stderr",
     "output_type": "stream",
     "text": [
      "/Users/aitingliang/opt/anaconda3/lib/python3.8/site-packages/IPython/core/interactiveshell.py:3165: DtypeWarning: Columns (20,31,32) have mixed types.Specify dtype option on import or set low_memory=False.\n",
      "  has_raised = await self.run_ast_nodes(code_ast.body, cell_name,\n"
     ]
    }
   ],
   "source": [
    "df=pd.read_csv('311_Service_Requests_2020.csv')"
   ]
  },
  {
   "cell_type": "markdown",
   "id": "c3011908-d495-489e-8e11-087c1eaed900",
   "metadata": {},
   "source": [
    "##### Analyze whether illegal parking incidents are a larger fraction of total 311 incidents in your ZIP code than they are in general"
   ]
  },
  {
   "cell_type": "code",
   "execution_count": 3,
   "id": "657f23b4-4dec-43c4-88c2-507c3d9d1582",
   "metadata": {},
   "outputs": [],
   "source": [
    "#Pull out data of zipcode:10027\n",
    "df1=df[df['Incident Zip'] == 10027.0]"
   ]
  },
  {
   "cell_type": "code",
   "execution_count": 4,
   "id": "fc22788d-7504-44cb-b7d6-839cb54cddc5",
   "metadata": {},
   "outputs": [],
   "source": [
    "#Compute the total number of parking incidents in zipcode:10027\n",
    "df2=df1[df1[\"Complaint Type\"]=='Illegal Parking']\n",
    "total_parking10027=len(df2.index)"
   ]
  },
  {
   "cell_type": "code",
   "execution_count": 5,
   "id": "983e052a-054b-45d6-b7a7-ad2535968e03",
   "metadata": {},
   "outputs": [],
   "source": [
    "#Compute total number of all incidents in zipcode:10027\n",
    "total_incidents10027=len(df1.index)"
   ]
  },
  {
   "cell_type": "code",
   "execution_count": 6,
   "id": "821909d6-1d2e-4642-9bb4-6463cc783f2f",
   "metadata": {},
   "outputs": [],
   "source": [
    "#Compute Parking Incident rate in zip 10027\n",
    "ziprate=total_parking10027 / total_incidents10027"
   ]
  },
  {
   "cell_type": "code",
   "execution_count": 7,
   "id": "9881bb90-df70-483d-83c9-16295f5ef6a6",
   "metadata": {},
   "outputs": [],
   "source": [
    "#Compute the total number of global parking incidents \n",
    "df3=df[df[\"Complaint Type\"]=='Illegal Parking']\n",
    "total_parkingglobal=len(df3.index)"
   ]
  },
  {
   "cell_type": "code",
   "execution_count": 8,
   "id": "c10cad81-1984-4a9d-91b0-43e9dc96a072",
   "metadata": {},
   "outputs": [],
   "source": [
    "#Compute total number of all incidents \n",
    "total_incidentsglobal=len(df.index)"
   ]
  },
  {
   "cell_type": "code",
   "execution_count": 9,
   "id": "7fc2d6fb-9f9f-4f02-bce2-4b8dcc6b4817",
   "metadata": {},
   "outputs": [],
   "source": [
    "#Compute global Parking Incident rate \n",
    "globalrate=total_parkingglobal/total_incidentsglobal"
   ]
  },
  {
   "cell_type": "code",
   "execution_count": 10,
   "id": "3d8e3912-c066-43ea-88b0-9af42d275c03",
   "metadata": {},
   "outputs": [
    {
     "data": {
      "text/plain": [
       "False"
      ]
     },
     "execution_count": 10,
     "metadata": {},
     "output_type": "execute_result"
    }
   ],
   "source": [
    "higher_parking_proportion=ziprate>globalrate\n",
    "higher_parking_proportion"
   ]
  }
 ],
 "metadata": {
  "kernelspec": {
   "display_name": "Python 3",
   "language": "python",
   "name": "python3"
  },
  "language_info": {
   "codemirror_mode": {
    "name": "ipython",
    "version": 3
   },
   "file_extension": ".py",
   "mimetype": "text/x-python",
   "name": "python",
   "nbconvert_exporter": "python",
   "pygments_lexer": "ipython3",
   "version": "3.8.8"
  }
 },
 "nbformat": 4,
 "nbformat_minor": 5
}
